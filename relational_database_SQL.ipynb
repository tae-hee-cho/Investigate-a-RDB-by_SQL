{
 "cells": [
  {
   "cell_type": "markdown",
   "metadata": {},
   "source": [
    "# Set of SQL queries written for DVD rental database."
   ]
  },
  {
   "cell_type": "markdown",
   "metadata": {},
   "source": [
    "### 1) JOIN, aggregates, aliases, WHERE, GROUP BY"
   ]
  },
  {
   "cell_type": "markdown",
   "metadata": {},
   "source": [
    "**Inquiry 1**: How many times were family-friendly movies rented over time? (by genres)"
   ]
  },
  {
   "cell_type": "markdown",
   "metadata": {},
   "source": [
    "<strong>SELECT</strong> c.name <strong>AS</strong> category_name,<br> <font color='blue'>COUNT</font>(f.title) <font color='green'><strong>AS</strong></font> movies<br>\n",
    "<font color='green'><strong>FROM</strong></font> film f<br>\n",
    "<font color='green'><strong>JOIN</strong></font> film_category<br>\n",
    "<font color='green'><strong>ON</strong></font> f.film_id = film_category.film_id<br>\n",
    "<font color='green'><strong>JOIN</strong></font> category c<br>\n",
    "<font color='green'><strong>ON</strong></font> film_category.category_id = c.category_id<br>\n",
    "<font color='green'><strong>JOIN</strong></font> inventory i<br>\n",
    "<font color='green'><strong>ON</strong></font> f.film_id = i.film_id<br>\n",
    "<font color='green'><strong>JOIN</strong></font> rental r<br>\n",
    "<font color='green'><strong>ON</strong></font> i.inventory_id = r.inventory_id<br>\n",
    "<font color='green'><strong>WHERE</strong></font> c.name <font color='green'><strong>IN</strong></font> (<font color='red'>'Animation'</font>, <font color='red'>'Children'</font>, <font color='red'>'Classics'</font>, <font color='red'>'Comedy'</font>, <font color='red'>'Family'</font>, <font color='red'>'Music'</font>)<br>\n",
    "<font color='green'><strong>GROUP BY</strong></font> c.name<br>"
   ]
  },
  {
   "cell_type": "markdown",
   "metadata": {},
   "source": [
    "**Result 1**:\n",
    "<img src=\"pictures/inquiry_1.png\" width = 700 height=350>"
   ]
  },
  {
   "cell_type": "markdown",
   "metadata": {},
   "source": [
    "### 2) CTE, running total, CONCAT('||')"
   ]
  },
  {
   "cell_type": "markdown",
   "metadata": {},
   "source": [
    "**Inquiry 2**:List 10 most productive actors (by total film length)"
   ]
  },
  {
   "cell_type": "markdown",
   "metadata": {},
   "source": [
    "<li><font color='green'><strong>WITH</strong></font> t1 <font color='green'><strong>AS</strong></font> </li>\n",
    "<li>(</li>\n",
    "<li><font color='green'><strong>SELECT</strong></font> actor.first_name || ' ' || actor.last_name AS actor_name, film.length <font color='green'><strong>AS</strong></font> film_length</li>\n",
    "<li><font color='green'><strong>FROM</strong></font> film </li>\n",
    "<li><font color='green'><strong>JOIN</strong></font> film_actor </li>\n",
    "<li><font color='green'><strong>ON</strong></font> film_actor.film_id = film.film_id</li>\n",
    "<li><font color='green'><strong>JOIN</strong></font> actor</li>\n",
    "<li><font color='green'><strong>ON</strong></font> film_actor.actor_id = actor.actor_id</li>\n",
    "<li>)</li>\n",
    "<li><font color='green'><strong>SELECT</strong></font> actor_name, <font color='blue'>SUM</font>(film_length) <font color='green'><strong>AS</strong></font> total_runtime</li>\n",
    "<li><font color='green'><strong>FROM</strong></font> t1</li>\n",
    "<li><font color='green'><strong>GROUP BY</strong></font> actor_name</li>\n",
    "<li><font color='green'><strong>ORDER BY</strong></font> total_runtime <font color='green'><strong>DESC</strong></font></li>\n",
    "<li><font color='green'><strong>LIMIT</strong></font> 10</li>"
   ]
  },
  {
   "cell_type": "markdown",
   "metadata": {},
   "source": [
    "**Result 2**:\n",
    "<img src=\"pictures/inquiry_2.png\" width = 700 height=350>"
   ]
  },
  {
   "cell_type": "markdown",
   "metadata": {},
   "source": [
    "### 3) CTE, running COUNT"
   ]
  },
  {
   "cell_type": "markdown",
   "metadata": {},
   "source": [
    "**Inquiry 3**:What are the total amount of DVD of family-friendly movies? (by genres)"
   ]
  },
  {
   "cell_type": "markdown",
   "metadata": {},
   "source": [
    "<li><font color='green'><strong>WITH</strong></font> t1 <font color='green'><strong>AS</strong></font></li>\n",
    "<li>(</li>\n",
    "<li><font color='green'><strong>SELECT</strong></font> c.name category</li>\n",
    "<li><font color='green'><strong>FROM</strong></font> category c</li>\n",
    "<li><font color='green'><strong>JOIN</strong></font> film_category</li>\n",
    "<li><font color='green'><strong>ON</strong></font> c.category_id = film_category.category_id</li>\n",
    "<li><font color='green'><strong>JOIN</strong></font> film f</li>\n",
    "<li><font color='green'><strong>ON</strong></font> film_category.film_id = f.film_id</li>\n",
    "<li>)</li>\n",
    "<li><font color='green'><strong>SELECT</strong></font> category, <font color='blue'>COUNT</font>(category) movies</li>\n",
    "<li><font color='green'><strong></strong>FROM</font> t1</li>\n",
    "<li><font color='green'><strong>WHERE</strong></font> category <font color='green'><strong>IN</strong></font> (<font color='red'>'Animation'</font>, <font color='red'>'Children'</font>, <font color='red'>'Classics'</font>, <font color='red'>'Comedy'</font>, <font color='red'>'Family'</font>, <font color='red'>'Music'</font>)</li>\n",
    "<li><font color='green'><strong>GROUP BY</strong></font> category</li>"
   ]
  },
  {
   "cell_type": "markdown",
   "metadata": {},
   "source": [
    "**Result 3**:\n",
    "<img src=\"pictures/inquiry_3.png\" width = 800 height=400>"
   ]
  },
  {
   "cell_type": "markdown",
   "metadata": {},
   "source": [
    "### 4) CTE, running Date_TRUNC, ROW_NUMBER"
   ]
  },
  {
   "cell_type": "markdown",
   "metadata": {},
   "source": [
    "**Inquiry 4**: Provide a table with Rental orders made by Floyd Gandy over time on monthly basis"
   ]
  },
  {
   "cell_type": "markdown",
   "metadata": {},
   "source": [
    "<li><font color='green'><strong>WITH</strong></font> t1 <font color='green'><strong>AS</strong></font></li>\n",
    "<li>(</li>\n",
    "<li><font color='green'><strong>SELECT</strong></font></li> \n",
    "<li>c.first_name || ' ' || c.last_name <font color='green'><strong>AS</strong></font> customer_name, </li>\n",
    "<li>r.rental_date <font color='green'><strong>AS</strong></font> rental_date</li>\n",
    "<li><font color='green'><strong>FROM</strong></font> customer c</li>\n",
    "<li><font color='green'><strong></strong>JOIN</font> rental r</li>\n",
    "<li><font color='green'><strong></strong>ON</font> c.customer_id = r.customer_id</li>\n",
    "<li><font color='green'><strong>ORDER BY</strong></font> rental_date</li>\n",
    "<li>)</li>\n",
    "\n",
    "<li><font color='green'><strong>SELECT</strong></font> </li>\n",
    "<li>customer_name,</li> \n",
    "<li><font color='blue'>DATE_TRUNC</font>('month', rental_date) <font color='green'><strong>AS</strong></font> month,</li>\n",
    "<li><font color='blue'>ROW_NUMBER</font>() <font color='blue'>OVER</font> (<font color='green'><strong></strong>PARTITION BY</font> customer_name <font color='green'><strong>ORDER BY</strong></font> <font color='blue'>DATE_TRUNC</font>('month', rental_date)) <font color='green'><strong>AS</strong></font> row_num</li>\n",
    "<li><font color='green'><strong>FROM</strong></font> t1</li>\n",
    "<li><font color='green'><strong>WHERE</strong></font> customer_name = <font color='red'>'Floyd Gandy'</font></li>"
   ]
  },
  {
   "cell_type": "markdown",
   "metadata": {},
   "source": [
    "**Result 4**:\n",
    "<img src=\"pictures/inquiry_4.png\" width = 700 height=350>"
   ]
  }
 ],
 "metadata": {
  "kernelspec": {
   "display_name": "Python 3",
   "language": "python",
   "name": "python3"
  },
  "language_info": {
   "codemirror_mode": {
    "name": "ipython",
    "version": 3
   },
   "file_extension": ".py",
   "mimetype": "text/x-python",
   "name": "python",
   "nbconvert_exporter": "python",
   "pygments_lexer": "ipython3",
   "version": "3.7.2"
  }
 },
 "nbformat": 4,
 "nbformat_minor": 2
}
