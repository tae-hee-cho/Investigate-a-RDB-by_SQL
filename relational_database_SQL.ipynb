{
 "cells": [
  {
   "cell_type": "markdown",
   "metadata": {},
   "source": [
    "# Set of SQL queries written for DVD rental database."
   ]
  },
  {
   "cell_type": "markdown",
   "metadata": {},
   "source": [
    "### 1) JOIN, aggregates, aliases, WHERE, GROUP BY"
   ]
  },
  {
   "cell_type": "markdown",
   "metadata": {},
   "source": [
    "**Inquiry 1**: How many times were family-friendly movies rented over time? (by genres)"
   ]
  },
  {
   "cell_type": "markdown",
   "metadata": {},
   "source": [
    "$\\color{green}{\\text{SELECT}}$ c.name $\\color{green}{\\text{AS}}$ category_name,<br> $\\color{blue}{\\text{COUNT}}$(f.title) $\\color{green}{\\text{AS}}$ movies<br>\n",
    "$\\color{green}{\\text{FROM}}$ film f<br>\n",
    "$\\color{green}{\\text{JOIN}}$ film_category<br>\n",
    "$\\color{green}{\\text{ON}}$ f.film_id = film_category.film_id<br>\n",
    "$\\color{green}{\\text{JOIN}}$ category c<br>\n",
    "$\\color{green}{\\text{ON}}$ film_category.category_id = c.category_id<br>\n",
    "$\\color{green}{\\text{JOIN}}$ inventory i<br>\n",
    "$\\color{green}{\\text{ON}}$ f.film_id = i.film_id<br>\n",
    "$\\color{green}{\\text{JOIN}}$ rental r<br>\n",
    "$\\color{green}{\\text{ON}}$ i.inventory_id = r.inventory_id<br>\n",
    "$\\color{green}{\\text{WHERE}}$ c.name $\\color{green}{\\text{IN}}$ ($\\color{red}{\\text{'Animation'}}$, $\\color{red}{\\text{'Children'}}$, $\\color{red}{\\text{'Classics'}}$, $\\color{red}{\\text{'Comedy'}}$, $\\color{red}{\\text{'Family'}}$, $\\color{red}{\\text{'Music'}}$)<br>\n",
    "$\\color{green}{\\text{GROUP BY}}$ c.name<br>"
   ]
  },
  {
   "cell_type": "markdown",
   "metadata": {},
   "source": [
    "### 2) CTE, running total, CONCAT('||')"
   ]
  },
  {
   "cell_type": "markdown",
   "metadata": {},
   "source": [
    "**Inquiry 2**:List 10 most productive actors (by total film length)"
   ]
  },
  {
   "cell_type": "markdown",
   "metadata": {},
   "source": [
    "$\\color{green}{\\text{WITH}}$ t1 $\\color{green}{\\text{AS}}$<br>\n",
    "(<br>\n",
    "$\\color{green}{\\text{SELECT}}$ actor.first_name || ' ' || actor.last_name $\\color{green}{\\text{AS}}$ actor_name, film.length $\\color{green}{\\text{AS}}$ film_length<br>\n",
    "$\\color{green}{\\text{FROM}}$ film <br>\n",
    "$\\color{green}{\\text{JOIN}}$ film_actor <br>\n",
    "$\\color{green}{\\text{ON}}$ film_actor.film_id = film.film_id<br>\n",
    "$\\color{green}{\\text{JOIN}}$ actor<br>\n",
    "$\\color{green}{\\text{ON}}$ film_actor.actor_id = actor.actor_id<br>\n",
    ")<br>\n",
    "$\\color{green}{\\text{SELECT}}$ actor_name, $\\color{blue}{\\text{SUM}}$ (film_length) $\\color{green}{\\text{AS}}$ total_runtime<br>\n",
    "$\\color{green}{\\text{FROM}}$ t1<br>\n",
    "$\\color{green}{\\text{GROUP BY}}$ actor_name<br>\n",
    "$\\color{green}{\\text{ORDER BY}}$ total_runtime $\\color{green}{\\text{DESC}}$<br>\n",
    "$\\color{green}{\\text{LIMIT}}$ 10"
   ]
  },
  {
   "cell_type": "markdown",
   "metadata": {},
   "source": [
    "### 3) CTE, running COUNT"
   ]
  },
  {
   "cell_type": "markdown",
   "metadata": {},
   "source": [
    "**Inquiry 3**:What are the total amount of DVD of family-friendly movies? (by genres)"
   ]
  },
  {
   "cell_type": "markdown",
   "metadata": {},
   "source": [
    "$\\color{green}{\\text{WITH}}$ t1 $\\color{green}{\\text{AS}}$<br>\n",
    "(<br>\n",
    "$\\color{green}{\\text{SELECT}}$ c.name category<br>\n",
    "$\\color{green}{\\text{FROM}}$ category c<br>\n",
    "$\\color{green}{\\text{JOIN}}$ film_category<br>\n",
    "$\\color{green}{\\text{ON}}$ c.category_id = film_category.category_id<br>\n",
    "$\\color{green}{\\text{JOIN}}$ film f<br>\n",
    "$\\color{green}{\\text{ON}}$ film_category.film_id = f.film_id<br>\n",
    ")<br>\n",
    "$\\color{green}{\\text{SELECT}}$ category, $\\color{blue}{\\text{COUNT}}$(category) movies<br>\n",
    "$\\color{green}{\\text{FROM}}$ t1<br>\n",
    "$\\color{green}{\\text{WHERE}}$ category $\\color{green}{\\text{IN}}$ ($\\color{red}{\\text{'Animation'}}$, $\\color{red}{\\text{'Children'}}$, $\\color{red}{\\text{'Classics'}}$, $\\color{red}{\\text{'Comedy'}}$, $\\color{red}{\\text{'Family'}}$, $\\color{red}{\\text{'Music'}}$)<br>\n",
    "$\\color{green}{\\text{'GROUP BY'}}$ category<br>"
   ]
  },
  {
   "cell_type": "markdown",
   "metadata": {},
   "source": [
    "### 4) CTE, running Date_TRUNC, ROW_NUMBER"
   ]
  },
  {
   "cell_type": "markdown",
   "metadata": {},
   "source": [
    "**Inquiry 4**: Provide a table with Rental orders made by Floyd Gandy over time on monthly basis"
   ]
  },
  {
   "cell_type": "markdown",
   "metadata": {},
   "source": [
    "$\\color{green}{\\text{WITH}}$ t1 $\\color{green}{\\text{AS}}$<br>\n",
    "(<br>\n",
    "$\\color{green}{\\text{SELECT}}$<br> \n",
    "c.first_name || ' ' || c.last_name $\\color{green}{\\text{AS}}$ customer_name, <br>\n",
    "r.rental_date $\\color{green}{\\text{AS}}$ rental_date<br>\n",
    "$\\color{green}{\\text{FROM}}$ customer c<br>\n",
    "$\\color{green}{\\text{JOIN}}$ rental r<br>\n",
    "$\\color{green}{\\text{ON}}$ c.customer_id = r.customer_id<br>\n",
    "$\\color{green}{\\text{ORDER BY}}$ORDER BY rental_date<br>\n",
    ")<br>\n",
    "\n",
    "$\\color{green}{\\text{SELECT}}$<br>\n",
    "customer_name,<br> \n",
    "$\\color{blue}{\\text{DATE_TRUNC}}$('month', rental_date) $\\color{green}{\\text{AS}}$ month,<br>\n",
    "$\\color{blue}{\\text{ROW_NUMBER}}$() $\\color{blue}{\\text{OVER}}$ ($\\color{green}{\\text{PARTITION BY}}$ customer_name $\\color{green}{\\text{ORDER BY}}$ $\\color{blue}{\\text{DATE_TRUNC}}$('month', rental_date)) $\\color{green}{\\text{AS}}$ row_num<br>\n",
    "$\\color{green}{\\text{FROM}}$ t1<br>\n",
    "$\\color{green}{\\text{WHERE}}$ customer_name = $\\color{red}{\\text{'Floyd Gandy'}}$"
   ]
  }
 ],
 "metadata": {
  "kernelspec": {
   "display_name": "Python 3",
   "language": "python",
   "name": "python3"
  },
  "language_info": {
   "codemirror_mode": {
    "name": "ipython",
    "version": 3
   },
   "file_extension": ".py",
   "mimetype": "text/x-python",
   "name": "python",
   "nbconvert_exporter": "python",
   "pygments_lexer": "ipython3",
   "version": "3.7.2"
  }
 },
 "nbformat": 4,
 "nbformat_minor": 2
}
